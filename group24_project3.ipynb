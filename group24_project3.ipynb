{
 "cells": [
  {
   "cell_type": "markdown",
   "id": "afe0e42a-f005-495b-8a4c-63a209db5eae",
   "metadata": {},
   "source": [
    "# Exploring Modes of Operations for Block Ciphers\n",
    "# and the Meet in the Middle Attack"
   ]
  },
  {
   "cell_type": "markdown",
   "id": "a21896a0-13a7-444f-a9ff-840e12fd688a",
   "metadata": {},
   "source": [
    "## Encryption Modes\n",
    "\n",
    "Encrypt the plaintext \"FOO\" using the following modes. Convert the final\n",
    "ciphertexts into letters. Show your work.\n",
    "1. ECB (Electronic Codebook)\n",
    "2. CBC (Cipher Block Chaining) with $\\text{IV}=1010$\n",
    "3. CTR (Counter) with $\\text{ctr}=1010$\n",
    "\n",
    "Use a hypothetical block cipher with a block length of 4, defined as $𝐸_{𝑘}(𝑏_{1} 𝑏_{2} 𝑏_{3} 𝑏_{4}) = (𝑏_{2} 𝑏_{3} 𝑏_{1} 𝑏_{4})$.\n",
    "\n",
    "Convert English plaintext into a bit string using the table provided (A=0000 to P=1111). Assume we\n",
    "have a language that uses 16 letters only. If we want a more realistic exercise, we can have block\n",
    "size of 5 bits that can represent 32 cases (more than 26 letters) or even size of 8 bits that use the\n",
    "ASCII. Here we just use the size of 4 bit.\n",
    "\n",
    "|A|B|C|D|E|F|G|H|I|J|K|L|M|N|O|P|\n",
    "|-|-|-|-|-|-|-|-|-|-|-|-|-|-|-|-|\n",
    "|0000|0001|0010|0011|0100|0101|0110|0111|1000|1001|1010|1011|1100|1101|1110|1111|"
   ]
  },
  {
   "cell_type": "markdown",
   "id": "77980105-f848-4087-9af6-a457da501ace",
   "metadata": {},
   "source": [
    "### Electronic Codebook\n",
    "\n",
    "Where plaintext $p$ is\n",
    "\n",
    "$$\n",
    "\\text{FOO} = 0101\\ 1110\\ 1110\n",
    "$$\n",
    "\n",
    "and key $k$ is\n",
    "\n",
    "$$\n",
    "k = 1011\n",
    "$$\n",
    "\n",
    "we encrypt the plaintext using the ECB cipher\n",
    "\n",
    "$$\n",
    "0101 \\mathbin{\\oplus} 1011 = 1110\n",
    "$$\n",
    "\n",
    "$$\n",
    "1110 \\oplus 1011 = 0101\n",
    "$$\n",
    "\n",
    "$$\n",
    "1110 \\oplus 1011 = 0101\n",
    "$$\n",
    "\n",
    "Thus the ciphertext is\n",
    "\n",
    "$$\n",
    "1110\\ 0101\\ 0101 = \n",
    "$$"
   ]
  },
  {
   "cell_type": "code",
   "execution_count": null,
   "id": "b6a4d83c-75cf-40eb-8859-73ec823fe80d",
   "metadata": {},
   "outputs": [],
   "source": []
  }
 ],
 "metadata": {
  "kernelspec": {
   "display_name": "Python 3 (ipykernel)",
   "language": "python",
   "name": "python3"
  },
  "language_info": {
   "codemirror_mode": {
    "name": "ipython",
    "version": 3
   },
   "file_extension": ".py",
   "mimetype": "text/x-python",
   "name": "python",
   "nbconvert_exporter": "python",
   "pygments_lexer": "ipython3",
   "version": "3.13.2"
  }
 },
 "nbformat": 4,
 "nbformat_minor": 5
}
